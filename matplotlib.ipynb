{
 "cells": [
  {
   "cell_type": "code",
   "execution_count": 4,
   "metadata": {},
   "outputs": [
    {
     "name": "stdout",
     "output_type": "stream",
     "text": [
      "How many\n",
      "5\n",
      "enter namearnabi\n",
      "enter age20\n",
      "enter namesanchari\n",
      "enter age21\n",
      "enter nameanoopa\n",
      "enter age19\n",
      "enter namesaumita\n",
      "enter age23\n",
      "enter namesmita\n",
      "enter age22\n",
      "['arnabi', 'sanchari', 'anoopa', 'saumita', 'smita']\n",
      "['20', '21', '19', '23', '22']\n"
     ]
    }
   ],
   "source": [
    "print('How many')\n",
    "n=input()\n",
    "a=[]\n",
    "b=[]\n",
    "for i in range(0,int(n)):\n",
    "    k=input('enter name')\n",
    "    a.append(k)\n",
    "    m=input('enter age')\n",
    "    b.append(m)\n",
    "print(a)\n",
    "print(b)"
   ]
  },
  {
   "cell_type": "code",
   "execution_count": 19,
   "metadata": {},
   "outputs": [
    {
     "name": "stdout",
     "output_type": "stream",
     "text": [
      "['arnabi' 'sanchari' 'anoopa' 'saumita' 'smita']\n",
      "['20' '21' '19' '23' '22']\n"
     ]
    }
   ],
   "source": [
    "import numpy as np\n",
    "\n",
    "print(h)\n",
    "\n",
    "print(k)\n",
    "\n",
    "h=np.asarray(a)\n",
    "k.sort()\n",
    "k=np.asarray(b)"
   ]
  },
  {
   "cell_type": "code",
   "execution_count": 10,
   "metadata": {},
   "outputs": [
    {
     "name": "stdout",
     "output_type": "stream",
     "text": [
      "enter name to searchsmita\n",
      "smita\n",
      "age:22\n"
     ]
    }
   ],
   "source": [
    "nm=input('enter name to search')\n",
    "for i in range(0,int(n)):\n",
    "    if(h[i]==nm):\n",
    "        print(h[i])\n",
    "        print('age:'+ k[i])"
   ]
  },
  {
   "cell_type": "code",
   "execution_count": 26,
   "metadata": {},
   "outputs": [
    {
     "data": {
      "image/png": "[encoded data removed]",
      "text/plain": [
       "<Figure size 432x288 with 1 Axes>"
      ]
     },
     "metadata": {},
     "output_type": "display_data"
    }
   ],
   "source": [
    "h\n",
    "import matplotlib.pyplot as plt\n",
    "plt.plot(k,h)\n",
    "plt.xlabel('Age')\n",
    "plt.ylabel('Name')\n",
    "plt.show()"
   ]
  },
  {
   "cell_type": "code",
   "execution_count": null,
   "metadata": {},
   "outputs": [],
   "source": []
  },
  {
   "cell_type": "code",
   "execution_count": null,
   "metadata": {},
   "outputs": [],
   "source": []
  }
 ],
 "metadata": {
  "kernelspec": {
   "display_name": "Python 3",
   "language": "python",
   "name": "python3"
  },
  "language_info": {
   "codemirror_mode": {
    "name": "ipython",
    "version": 3
   },
   "file_extension": ".py",
   "mimetype": "text/x-python",
   "name": "python",
   "nbconvert_exporter": "python",
   "pygments_lexer": "ipython3",
   "version": "3.6.5"
  }
 },
 "nbformat": 4,
 "nbformat_minor": 2
}
